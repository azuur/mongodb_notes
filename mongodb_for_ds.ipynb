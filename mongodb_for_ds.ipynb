{
 "cells": [
  {
   "cell_type": "code",
   "execution_count": null,
   "metadata": {},
   "outputs": [],
   "source": []
  },
  {
   "attachments": {},
   "cell_type": "markdown",
   "metadata": {},
   "source": [
    "# 1. What is Mongodb?\n",
    "\n",
    "- NoSQL (non relational)\n",
    "- Specifically: document oriented\n",
    "- More specifically: stores collections of JSONs\n",
    "- Even more specifically: BSONs\n",
    "\n",
    "It is a cloud service developed by Mongo Inc. It is open sourceish.\n"
   ]
  },
  {
   "attachments": {},
   "cell_type": "markdown",
   "metadata": {},
   "source": [
    "# 2. Mini philosophical intro\n",
    "\n",
    "- \"Data that is read together should be stored together\" -> Non-normalized data. Embedded documents instead of joins. EXAMPLE.\n",
    "- Flexible document structure instead of schema constraints. If a document doesn't have a field, that's fine, no need to null it. No 99% NULL columns.\n",
    "- Performance and scalability over storage efficiency and perfect data integrity. I'll get back to this."
   ]
  },
  {
   "attachments": {},
   "cell_type": "markdown",
   "metadata": {},
   "source": [
    "# 3 How To use\n",
    "\n",
    "- Several editions. To play, Community edition\n",
    "\n",
    "Mongo Atlas\n",
    "Mongo Compass\n",
    "Mongo Shell\n",
    "Mongo drivers (for example for Python)"
   ]
  },
  {
   "attachments": {},
   "cell_type": "markdown",
   "metadata": {},
   "source": [
    "# Practical examples\n",
    "\n",
    "How to perform \n",
    "\n",
    "INSERT INTO, DELETE\n",
    "\n",
    "SELECT X, Y, Z FROM Q ORDER BY W\n",
    "\n",
    "SELECT Y, SUM(X) FROM Q GROUP BY Y\n",
    "\n",
    "SELECT A.X, B.Y FROM A LEFT JOIN B ON A.key = B.foreign_key\n",
    "\n",
    "Other cool things that are more useful when you have embedded documents.\n",
    "\n",
    "$unwind, $push in GROUP BY"
   ]
  },
  {
   "attachments": {},
   "cell_type": "markdown",
   "metadata": {},
   "source": [
    "# More philosophy\n",
    "\n",
    "- Relational databases are very good for (at least) two things:\n",
    "    - Storage efficiency (as duplicates are avoided)\n",
    "    - Data consistency (as duplicates are avoided and constraints are enforced)\n",
    "But, because of this, they are bad for some other things:\n",
    "    - Performance (especially if joins are necessary)\n",
    "    - Flexibility ans scalability (because schema constraints are always enforced and need to be migrated upon any change to data model, even if only for a single entry)\n",
    "\n",
    "Mongodb (and other NoSQL Document oriented dbs) aim to be on the other side of this trade off. They allow for better performance and flexibility, at the cost of storage efficiency and (arguably) data consistency.\n",
    "\n",
    "This is popular today because storage is cheap, but developer time and bad user experience are expensive!"
   ]
  },
  {
   "attachments": {},
   "cell_type": "markdown",
   "metadata": {},
   "source": [
    "# How does this affect data science work\n",
    "\n",
    "Maybe: not much. I'm not sure.\n",
    "\n",
    "Is MQL easier than SQL? I don't know. It seems like a matter of taste.\n",
    "\n",
    "Does the lack of data normalization make it easier or harder to understand data?\n",
    "    - On one hand, in relational databases, you are stuck with having to do maaany joins in EDA, and you often end up with ugly things like columns with 99% nulls.\n",
    "    - On the other hand, in MongoDB, you have little guarantees of what your data will look like. This sounds easy to mismanage, which could result in incomprehensible datasets full of atypical stuff.\n",
    "\n",
    "What's your experience? "
   ]
  }
 ],
 "metadata": {
  "language_info": {
   "name": "python"
  },
  "orig_nbformat": 4
 },
 "nbformat": 4,
 "nbformat_minor": 2
}
