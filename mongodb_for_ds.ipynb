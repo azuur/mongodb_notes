{
 "cells": [
  {
   "attachments": {},
   "cell_type": "markdown",
   "metadata": {
    "slideshow": {
     "slide_type": "slide"
    }
   },
   "source": [
    "### 1. What is MongoDB?\n"
   ]
  },
  {
   "attachments": {},
   "cell_type": "markdown",
   "metadata": {
    "slideshow": {
     "slide_type": "fragment"
    }
   },
   "source": [
    "\n",
    "It is a cloud native database-as-a-service (DBaaS) developed by Mongo Inc. It is open sourceish.\n",
    "\n",
    "- It is a NoSQL database software (that is, for non-relational databases).\n",
    "\n",
    "\n",
    "- In detail: It supports \"document oriented\" databases (documents instead of 'rows').\n",
    "\n",
    "\n",
    "- In more detail: MongoDB databases store collections of JSONs.\n",
    "\n",
    "\n",
    "- In even more detail: They store collections of BSONs (binary representation of JSONs)\n"
   ]
  },
  {
   "attachments": {},
   "cell_type": "markdown",
   "metadata": {
    "slideshow": {
     "slide_type": "slide"
    }
   },
   "source": [
    "### 2. How to get and use MongoDB\n"
   ]
  },
  {
   "attachments": {},
   "cell_type": "markdown",
   "metadata": {
    "slideshow": {
     "slide_type": "fragment"
    }
   },
   "source": [
    "\n",
    "You can get two versions of MongoDB\n",
    "\n",
    "- Community Edition: free, limited version, easily deployed on AWS, Azure, or GCP.\n",
    "- Enterprise Edition: commercial version, with extra security and performance features.\n",
    "\n",
    "https://www.mongodb.com/try\n"
   ]
  },
  {
   "attachments": {},
   "cell_type": "markdown",
   "metadata": {
    "slideshow": {
     "slide_type": "fragment"
    }
   },
   "source": [
    "MongoDB provides several libraries, SDKs, and apps for different use cases. \n"
   ]
  },
  {
   "attachments": {},
   "cell_type": "markdown",
   "metadata": {
    "slideshow": {
     "slide_type": "fragment"
    }
   },
   "source": [
    "\n",
    "For basic data analysis and software development work, here are some tools:\n",
    "\n",
    "- Mongo Atlas: web application that supports querying, exploring, visualizing, and designing data and databases. \n",
    "  \n",
    "- Mongo Compass: standalone application very similar to Atlas.\n",
    "  \n",
    "- Mongo Shell: CLI tool.\n",
    "  \n",
    "- MongoDB drivers: libraries to use in app code to connect to MongoDB. In Python, the simple option is `pymongo`."
   ]
  },
  {
   "attachments": {},
   "cell_type": "markdown",
   "metadata": {
    "slideshow": {
     "slide_type": "slide"
    }
   },
   "source": [
    "### 3. Practical Examples of Using MQL (Mongo Query Language)\n"
   ]
  },
  {
   "attachments": {},
   "cell_type": "markdown",
   "metadata": {
    "slideshow": {
     "slide_type": "fragment"
    }
   },
   "source": [
    "\n",
    "#### 3.1 CRUD\n",
    "\n",
    "In SQL we can do this\n",
    "\n",
    "\n",
    "```sql\n",
    "INSERT INTO movies (title, genre, release_date)\n",
    "VALUES ('The Shawshank Redemption', 'Drama', '1994-10-14');\n",
    "```\n",
    "\n",
    "```sql\n",
    "UPDATE movies\n",
    "SET title = 'The Shawshank Redemption', genre = 'Crime', release_date = '1994-10-14'\n",
    "WHERE id = 1;\n",
    "```\n",
    "\n",
    "```sql\n",
    "DELETE FROM movies\n",
    "WHERE id = 1;\n",
    "```\n"
   ]
  },
  {
   "attachments": {},
   "cell_type": "markdown",
   "metadata": {
    "slideshow": {
     "slide_type": "fragment"
    }
   },
   "source": [
    "\n",
    "In MQL, this is how it could look:\n",
    "\n",
    "```mql\n",
    "db.movies.insertOne({\"nombre\": \"papagayo\"})\n",
    "```\n",
    "```mql\n",
    "db.movies.find({\"nombre\": \"papagayo\"})\n",
    "```\n",
    "```mql\n",
    "db.movies.updateOne({\"nombre\": \"papagayo\"}, {$set: {\"year\": 1920}})\n",
    "```\n",
    "```mql\n",
    "db.movies.updateMany({\"nombre\": \"papagayo\"}, {$set: {\"year\": 1920}})\n",
    "```\n",
    "```mql\n",
    "db.movies.deleteMany({\"nombre\": \"papagayo\"})\n",
    "```\n"
   ]
  },
  {
   "attachments": {},
   "cell_type": "markdown",
   "metadata": {
    "slideshow": {
     "slide_type": "slide"
    }
   },
   "source": [
    "#### 3.2 Filtering and Sorting\n",
    "\n",
    "In SQL we do this:\n",
    "\n",
    "```sql\n",
    "SELECT start_station_id, end_station_id, tripduration\n",
    "FROM trips\n",
    "ORDER BY tripduration DESC;\n",
    "```"
   ]
  },
  {
   "attachments": {},
   "cell_type": "markdown",
   "metadata": {
    "slideshow": {
     "slide_type": "fragment"
    }
   },
   "source": [
    "\n",
    "In MQL, we can do this:\n",
    "\n",
    "```mql\n",
    "db.trips.aggregate([\n",
    "    {$project: {\"start station id\": 1, \"end station id\":1, \"tripduration\": 1}}, \n",
    "    {$sort: {\"tripduration\":-1}}\n",
    "])\n",
    "```\n"
   ]
  },
  {
   "attachments": {},
   "cell_type": "markdown",
   "metadata": {
    "slideshow": {
     "slide_type": "slide"
    }
   },
   "source": [
    "#### 3.3 Aggregation\n",
    "\n",
    "In SQL we do this:\n",
    "\n",
    "```sql\n",
    "SELECT start_station_id, end_station_id, AVG(tripduration) AS avg_duration, COUNT(*) AS num_trips\n",
    "FROM trips\n",
    "GROUP BY start_station_id, end_station_id;\n",
    "```\n"
   ]
  },
  {
   "attachments": {},
   "cell_type": "markdown",
   "metadata": {
    "slideshow": {
     "slide_type": "fragment"
    }
   },
   "source": [
    "\n",
    "In MQL, we can do this:\n",
    "\n",
    "```mql\n",
    "db.trips.aggregate([\n",
    "\t{$project: {\"start station id\": 1, \"end station id\":1, \"tripduration\": 1}}, \n",
    "\t{$group: \n",
    "\t\t{_id: {\"start station id\": \"$start station id\", \"end station id\": \"$end station id\"}, \n",
    "\t\t\"avg_duration\": {$avg: \"$tripduration\"}, \n",
    "\t\t\"num_trips\": {$sum: 1}\n",
    "\t\t}\n",
    "\t}\n",
    "])\n",
    "```"
   ]
  },
  {
   "attachments": {},
   "cell_type": "markdown",
   "metadata": {
    "slideshow": {
     "slide_type": "slide"
    }
   },
   "source": [
    "#### Joins\n",
    "\n",
    "In SQL we do this:\n",
    "\n",
    "```sql\n",
    "SELECT m.*\n",
    "FROM movies AS m\n",
    "LEFT JOIN comments AS c ON m._id = c.movie_id\n",
    "WHERE m.num_mflix_comments > 0\n",
    "LIMIT 10;\n",
    "```\n"
   ]
  },
  {
   "attachments": {},
   "cell_type": "markdown",
   "metadata": {
    "slideshow": {
     "slide_type": "fragment"
    }
   },
   "source": [
    "\n",
    "In MQL, we can do this:\n",
    "\n",
    "```mql\n",
    "db.movies.aggregate([\n",
    "\t{$match: {\"num_mflix_comments\":{$gt: 0}}}, \n",
    "\t{$lookup: {\"from\": \"comments\", \"localField\": \"_id\", \"foreignField\": \"movie_id\", \"as\": \"comments\"}}, \n",
    "\t{$limit: 10}\n",
    "])}\n",
    "```"
   ]
  },
  {
   "attachments": {},
   "cell_type": "markdown",
   "metadata": {
    "slideshow": {
     "slide_type": "slide"
    }
   },
   "source": [
    "In MQL we also do this to do JOIN-like operations\n",
    "\n",
    "This converts a \"students\" table into an \"assignments\" table:\n",
    "\n",
    "```mql\n",
    "db.grades.aggregate([{$unwind: \"$scores\"}])\n",
    "```\n",
    "\n",
    "This converts a \"students\" table into a \"classes\" table:\n",
    "\n",
    "```mql\n",
    "db.grades.aggregate([\n",
    "    {$group: {\"_id\": \"$class_id\", \"students\": {$push: \"$$ROOT\"}}},\n",
    "    {$limit: 1}\n",
    "])\n",
    "```\n"
   ]
  },
  {
   "attachments": {},
   "cell_type": "markdown",
   "metadata": {
    "slideshow": {
     "slide_type": "slide"
    }
   },
   "source": [
    "### 4. Data Modeling Philosophy Behind MongoDB\n"
   ]
  },
  {
   "attachments": {},
   "cell_type": "markdown",
   "metadata": {
    "slideshow": {
     "slide_type": "fragment"
    }
   },
   "source": [
    "\n",
    "**Performance and scalability are preferred over storage efficiency and perfect data integrity.**\n"
   ]
  },
  {
   "attachments": {},
   "cell_type": "markdown",
   "metadata": {
    "slideshow": {
     "slide_type": "fragment"
    }
   },
   "source": [
    "\n",
    "- Flexible document structure instead of rigid schema constraints. \n",
    "  - If a document doesn't have a field, that's fine. No need for NULLs.\n"
   ]
  },
  {
   "attachments": {},
   "cell_type": "markdown",
   "metadata": {
    "slideshow": {
     "slide_type": "fragment"
    }
   },
   "source": [
    "\n",
    "- \"Data that is read together should be stored together\". \n",
    "  - This means that we default to non-normalized data. **Embedded documents and arrays are preferred to joining tables.**\n",
    "\n"
   ]
  },
  {
   "attachments": {},
   "cell_type": "markdown",
   "metadata": {
    "slideshow": {
     "slide_type": "subslide"
    }
   },
   "source": [
    "#### Why?\n",
    "\n",
    "Relational databases are very good for (at least) two things:\n",
    "- Storage efficiency (as duplicated data is avoided)\n",
    "- Data consistency (as duplicate data is avoided and strict constraints are enforced)\n",
    "  \n"
   ]
  },
  {
   "attachments": {},
   "cell_type": "markdown",
   "metadata": {
    "slideshow": {
     "slide_type": "fragment"
    }
   },
   "source": [
    "But, because of this, they are bad for some other things:\n",
    "- Performance (especially if joins are necessary)\n",
    "- Flexibility and scalability (because schema constraints are strict for ALL ROWS in a table, and therefore any desired change implies a full migration)\n"
   ]
  },
  {
   "attachments": {},
   "cell_type": "markdown",
   "metadata": {
    "slideshow": {
     "slide_type": "fragment"
    }
   },
   "source": [
    "\n",
    "**In this tradeoff, MongoDB takes the opposite approach of relational databases.**\n",
    "\n",
    "This is popular today because storage is cheap, but developer time and bad user experience are expensive!"
   ]
  },
  {
   "attachments": {},
   "cell_type": "markdown",
   "metadata": {
    "slideshow": {
     "slide_type": "slide"
    }
   },
   "source": [
    "### 4. Bonus: How does MongoDB feel for Data Science work?\n"
   ]
  },
  {
   "attachments": {},
   "cell_type": "markdown",
   "metadata": {
    "slideshow": {
     "slide_type": "fragment"
    }
   },
   "source": [
    "\n",
    "I'm not sure.\n"
   ]
  },
  {
   "attachments": {},
   "cell_type": "markdown",
   "metadata": {
    "slideshow": {
     "slide_type": "fragment"
    }
   },
   "source": [
    "\n",
    "Is MQL easier than SQL? I don't know. It seems like a matter of taste.\n"
   ]
  },
  {
   "attachments": {},
   "cell_type": "markdown",
   "metadata": {
    "slideshow": {
     "slide_type": "fragment"
    }
   },
   "source": [
    "\n",
    "Does the lack of data normalization make it easier or harder to understand data?\n"
   ]
  },
  {
   "attachments": {},
   "cell_type": "markdown",
   "metadata": {
    "slideshow": {
     "slide_type": "fragment"
    }
   },
   "source": [
    "- On one hand, in relational databases, you are stuck with having to do many joins in EDA, and you often end up with ugly things like columns with 99% nulls.\n"
   ]
  },
  {
   "attachments": {},
   "cell_type": "markdown",
   "metadata": {
    "slideshow": {
     "slide_type": "fragment"
    }
   },
   "source": [
    "- On the other hand, in MongoDB, you have little guarantees of what your data will look like. This sounds easy to mismanage, which could result in incomprehensible datasets full of atypical stuff.\n"
   ]
  },
  {
   "attachments": {},
   "cell_type": "markdown",
   "metadata": {
    "slideshow": {
     "slide_type": "fragment"
    }
   },
   "source": [
    "\n",
    "What's your feeling? What's your experience?"
   ]
  }
 ],
 "metadata": {
  "language_info": {
   "name": "python"
  },
  "orig_nbformat": 4
 },
 "nbformat": 4,
 "nbformat_minor": 2
}
